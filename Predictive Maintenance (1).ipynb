{
 "cells": [
  {
   "cell_type": "code",
   "execution_count": 1,
   "id": "13c9d991",
   "metadata": {},
   "outputs": [],
   "source": [
    "#Title: Predictive Maintenance for Industrial Equipment Using Machine Learning"
   ]
  },
  {
   "cell_type": "code",
   "execution_count": 1,
   "id": "d36e712b",
   "metadata": {},
   "outputs": [],
   "source": [
    "import pandas as pd\n",
    "import numpy as np"
   ]
  },
  {
   "cell_type": "code",
   "execution_count": 2,
   "id": "f1c5053b",
   "metadata": {},
   "outputs": [],
   "source": [
    "data = pd.read_csv('Dataset - Sheet1.csv')"
   ]
  },
  {
   "cell_type": "code",
   "execution_count": 3,
   "id": "0e59b779",
   "metadata": {},
   "outputs": [
    {
     "data": {
      "text/html": [
       "<div>\n",
       "<style scoped>\n",
       "    .dataframe tbody tr th:only-of-type {\n",
       "        vertical-align: middle;\n",
       "    }\n",
       "\n",
       "    .dataframe tbody tr th {\n",
       "        vertical-align: top;\n",
       "    }\n",
       "\n",
       "    .dataframe thead th {\n",
       "        text-align: right;\n",
       "    }\n",
       "</style>\n",
       "<table border=\"1\" class=\"dataframe\">\n",
       "  <thead>\n",
       "    <tr style=\"text-align: right;\">\n",
       "      <th></th>\n",
       "      <th>Temperature</th>\n",
       "      <th>Pressure</th>\n",
       "      <th>Vibration</th>\n",
       "      <th>Humidity</th>\n",
       "      <th>Failure</th>\n",
       "    </tr>\n",
       "  </thead>\n",
       "  <tbody>\n",
       "    <tr>\n",
       "      <th>0</th>\n",
       "      <td>23.75594</td>\n",
       "      <td>111.47800</td>\n",
       "      <td>0.590529</td>\n",
       "      <td>42.99730</td>\n",
       "      <td>0</td>\n",
       "    </tr>\n",
       "    <tr>\n",
       "      <th>1</th>\n",
       "      <td>18.38782</td>\n",
       "      <td>108.31190</td>\n",
       "      <td>0.561806</td>\n",
       "      <td>26.16201</td>\n",
       "      <td>0</td>\n",
       "    </tr>\n",
       "    <tr>\n",
       "      <th>2</th>\n",
       "      <td>25.86647</td>\n",
       "      <td>86.78422</td>\n",
       "      <td>0.434486</td>\n",
       "      <td>40.09598</td>\n",
       "      <td>0</td>\n",
       "    </tr>\n",
       "    <tr>\n",
       "      <th>3</th>\n",
       "      <td>21.07013</td>\n",
       "      <td>104.74830</td>\n",
       "      <td>0.602397</td>\n",
       "      <td>38.64469</td>\n",
       "      <td>0</td>\n",
       "    </tr>\n",
       "    <tr>\n",
       "      <th>4</th>\n",
       "      <td>22.74969</td>\n",
       "      <td>95.66371</td>\n",
       "      <td>0.553688</td>\n",
       "      <td>42.28409</td>\n",
       "      <td>0</td>\n",
       "    </tr>\n",
       "    <tr>\n",
       "      <th>...</th>\n",
       "      <td>...</td>\n",
       "      <td>...</td>\n",
       "      <td>...</td>\n",
       "      <td>...</td>\n",
       "      <td>...</td>\n",
       "    </tr>\n",
       "    <tr>\n",
       "      <th>8732</th>\n",
       "      <td>21.98014</td>\n",
       "      <td>111.96370</td>\n",
       "      <td>0.505857</td>\n",
       "      <td>66.63030</td>\n",
       "      <td>0</td>\n",
       "    </tr>\n",
       "    <tr>\n",
       "      <th>8733</th>\n",
       "      <td>28.56523</td>\n",
       "      <td>106.07030</td>\n",
       "      <td>0.379595</td>\n",
       "      <td>57.72110</td>\n",
       "      <td>0</td>\n",
       "    </tr>\n",
       "    <tr>\n",
       "      <th>8734</th>\n",
       "      <td>26.39877</td>\n",
       "      <td>90.06860</td>\n",
       "      <td>0.602586</td>\n",
       "      <td>51.97461</td>\n",
       "      <td>0</td>\n",
       "    </tr>\n",
       "    <tr>\n",
       "      <th>8735</th>\n",
       "      <td>34.30743</td>\n",
       "      <td>104.64770</td>\n",
       "      <td>0.430827</td>\n",
       "      <td>60.13049</td>\n",
       "      <td>0</td>\n",
       "    </tr>\n",
       "    <tr>\n",
       "      <th>8736</th>\n",
       "      <td>21.56679</td>\n",
       "      <td>97.80628</td>\n",
       "      <td>0.440026</td>\n",
       "      <td>29.18022</td>\n",
       "      <td>0</td>\n",
       "    </tr>\n",
       "  </tbody>\n",
       "</table>\n",
       "<p>8737 rows × 5 columns</p>\n",
       "</div>"
      ],
      "text/plain": [
       "      Temperature   Pressure  Vibration  Humidity  Failure\n",
       "0        23.75594  111.47800   0.590529  42.99730        0\n",
       "1        18.38782  108.31190   0.561806  26.16201        0\n",
       "2        25.86647   86.78422   0.434486  40.09598        0\n",
       "3        21.07013  104.74830   0.602397  38.64469        0\n",
       "4        22.74969   95.66371   0.553688  42.28409        0\n",
       "...           ...        ...        ...       ...      ...\n",
       "8732     21.98014  111.96370   0.505857  66.63030        0\n",
       "8733     28.56523  106.07030   0.379595  57.72110        0\n",
       "8734     26.39877   90.06860   0.602586  51.97461        0\n",
       "8735     34.30743  104.64770   0.430827  60.13049        0\n",
       "8736     21.56679   97.80628   0.440026  29.18022        0\n",
       "\n",
       "[8737 rows x 5 columns]"
      ]
     },
     "execution_count": 3,
     "metadata": {},
     "output_type": "execute_result"
    }
   ],
   "source": [
    "data"
   ]
  },
  {
   "cell_type": "code",
   "execution_count": 4,
   "id": "c7b13000",
   "metadata": {},
   "outputs": [
    {
     "name": "stdout",
     "output_type": "stream",
     "text": [
      "<class 'pandas.core.frame.DataFrame'>\n",
      "RangeIndex: 8737 entries, 0 to 8736\n",
      "Data columns (total 5 columns):\n",
      " #   Column       Non-Null Count  Dtype  \n",
      "---  ------       --------------  -----  \n",
      " 0   Temperature  8736 non-null   float64\n",
      " 1   Pressure     8735 non-null   float64\n",
      " 2   Vibration    8736 non-null   float64\n",
      " 3   Humidity     8737 non-null   float64\n",
      " 4   Failure      8737 non-null   int64  \n",
      "dtypes: float64(4), int64(1)\n",
      "memory usage: 341.4 KB\n"
     ]
    }
   ],
   "source": [
    "data.info()"
   ]
  },
  {
   "cell_type": "code",
   "execution_count": 5,
   "id": "95bdd0a1",
   "metadata": {},
   "outputs": [
    {
     "data": {
      "text/plain": [
       "Temperature    1\n",
       "Pressure       2\n",
       "Vibration      1\n",
       "Humidity       0\n",
       "Failure        0\n",
       "dtype: int64"
      ]
     },
     "execution_count": 5,
     "metadata": {},
     "output_type": "execute_result"
    }
   ],
   "source": [
    "data.isnull().sum()"
   ]
  },
  {
   "cell_type": "code",
   "execution_count": 6,
   "id": "5d272ecc",
   "metadata": {},
   "outputs": [],
   "source": [
    "data = data.drop_duplicates()"
   ]
  },
  {
   "cell_type": "code",
   "execution_count": 7,
   "id": "0c262133",
   "metadata": {},
   "outputs": [
    {
     "data": {
      "text/html": [
       "<div>\n",
       "<style scoped>\n",
       "    .dataframe tbody tr th:only-of-type {\n",
       "        vertical-align: middle;\n",
       "    }\n",
       "\n",
       "    .dataframe tbody tr th {\n",
       "        vertical-align: top;\n",
       "    }\n",
       "\n",
       "    .dataframe thead th {\n",
       "        text-align: right;\n",
       "    }\n",
       "</style>\n",
       "<table border=\"1\" class=\"dataframe\">\n",
       "  <thead>\n",
       "    <tr style=\"text-align: right;\">\n",
       "      <th></th>\n",
       "      <th>Temperature</th>\n",
       "      <th>Pressure</th>\n",
       "      <th>Vibration</th>\n",
       "      <th>Humidity</th>\n",
       "      <th>Failure</th>\n",
       "    </tr>\n",
       "  </thead>\n",
       "  <tbody>\n",
       "    <tr>\n",
       "      <th>0</th>\n",
       "      <td>23.75594</td>\n",
       "      <td>111.47800</td>\n",
       "      <td>0.590529</td>\n",
       "      <td>42.99730</td>\n",
       "      <td>0</td>\n",
       "    </tr>\n",
       "    <tr>\n",
       "      <th>1</th>\n",
       "      <td>18.38782</td>\n",
       "      <td>108.31190</td>\n",
       "      <td>0.561806</td>\n",
       "      <td>26.16201</td>\n",
       "      <td>0</td>\n",
       "    </tr>\n",
       "    <tr>\n",
       "      <th>2</th>\n",
       "      <td>25.86647</td>\n",
       "      <td>86.78422</td>\n",
       "      <td>0.434486</td>\n",
       "      <td>40.09598</td>\n",
       "      <td>0</td>\n",
       "    </tr>\n",
       "    <tr>\n",
       "      <th>3</th>\n",
       "      <td>21.07013</td>\n",
       "      <td>104.74830</td>\n",
       "      <td>0.602397</td>\n",
       "      <td>38.64469</td>\n",
       "      <td>0</td>\n",
       "    </tr>\n",
       "    <tr>\n",
       "      <th>4</th>\n",
       "      <td>22.74969</td>\n",
       "      <td>95.66371</td>\n",
       "      <td>0.553688</td>\n",
       "      <td>42.28409</td>\n",
       "      <td>0</td>\n",
       "    </tr>\n",
       "    <tr>\n",
       "      <th>...</th>\n",
       "      <td>...</td>\n",
       "      <td>...</td>\n",
       "      <td>...</td>\n",
       "      <td>...</td>\n",
       "      <td>...</td>\n",
       "    </tr>\n",
       "    <tr>\n",
       "      <th>8732</th>\n",
       "      <td>21.98014</td>\n",
       "      <td>111.96370</td>\n",
       "      <td>0.505857</td>\n",
       "      <td>66.63030</td>\n",
       "      <td>0</td>\n",
       "    </tr>\n",
       "    <tr>\n",
       "      <th>8733</th>\n",
       "      <td>28.56523</td>\n",
       "      <td>106.07030</td>\n",
       "      <td>0.379595</td>\n",
       "      <td>57.72110</td>\n",
       "      <td>0</td>\n",
       "    </tr>\n",
       "    <tr>\n",
       "      <th>8734</th>\n",
       "      <td>26.39877</td>\n",
       "      <td>90.06860</td>\n",
       "      <td>0.602586</td>\n",
       "      <td>51.97461</td>\n",
       "      <td>0</td>\n",
       "    </tr>\n",
       "    <tr>\n",
       "      <th>8735</th>\n",
       "      <td>34.30743</td>\n",
       "      <td>104.64770</td>\n",
       "      <td>0.430827</td>\n",
       "      <td>60.13049</td>\n",
       "      <td>0</td>\n",
       "    </tr>\n",
       "    <tr>\n",
       "      <th>8736</th>\n",
       "      <td>21.56679</td>\n",
       "      <td>97.80628</td>\n",
       "      <td>0.440026</td>\n",
       "      <td>29.18022</td>\n",
       "      <td>0</td>\n",
       "    </tr>\n",
       "  </tbody>\n",
       "</table>\n",
       "<p>8737 rows × 5 columns</p>\n",
       "</div>"
      ],
      "text/plain": [
       "      Temperature   Pressure  Vibration  Humidity  Failure\n",
       "0        23.75594  111.47800   0.590529  42.99730        0\n",
       "1        18.38782  108.31190   0.561806  26.16201        0\n",
       "2        25.86647   86.78422   0.434486  40.09598        0\n",
       "3        21.07013  104.74830   0.602397  38.64469        0\n",
       "4        22.74969   95.66371   0.553688  42.28409        0\n",
       "...           ...        ...        ...       ...      ...\n",
       "8732     21.98014  111.96370   0.505857  66.63030        0\n",
       "8733     28.56523  106.07030   0.379595  57.72110        0\n",
       "8734     26.39877   90.06860   0.602586  51.97461        0\n",
       "8735     34.30743  104.64770   0.430827  60.13049        0\n",
       "8736     21.56679   97.80628   0.440026  29.18022        0\n",
       "\n",
       "[8737 rows x 5 columns]"
      ]
     },
     "execution_count": 7,
     "metadata": {},
     "output_type": "execute_result"
    }
   ],
   "source": [
    "data"
   ]
  },
  {
   "cell_type": "code",
   "execution_count": 8,
   "id": "e391173c",
   "metadata": {},
   "outputs": [],
   "source": [
    "data = data.fillna(data.mean())  #Null values replaced by mean"
   ]
  },
  {
   "cell_type": "code",
   "execution_count": 9,
   "id": "7f39d3d7",
   "metadata": {},
   "outputs": [
    {
     "data": {
      "text/plain": [
       "Temperature    0\n",
       "Pressure       0\n",
       "Vibration      0\n",
       "Humidity       0\n",
       "Failure        0\n",
       "dtype: int64"
      ]
     },
     "execution_count": 9,
     "metadata": {},
     "output_type": "execute_result"
    }
   ],
   "source": [
    "data.isnull().sum()"
   ]
  },
  {
   "cell_type": "code",
   "execution_count": 10,
   "id": "92859146",
   "metadata": {},
   "outputs": [],
   "source": [
    "import pandas as pd\n",
    "from scipy.stats import zscore\n",
    "data_standardized = data.apply(zscore)"
   ]
  },
  {
   "cell_type": "code",
   "execution_count": 11,
   "id": "73b62beb",
   "metadata": {},
   "outputs": [
    {
     "data": {
      "text/html": [
       "<div>\n",
       "<style scoped>\n",
       "    .dataframe tbody tr th:only-of-type {\n",
       "        vertical-align: middle;\n",
       "    }\n",
       "\n",
       "    .dataframe tbody tr th {\n",
       "        vertical-align: top;\n",
       "    }\n",
       "\n",
       "    .dataframe thead th {\n",
       "        text-align: right;\n",
       "    }\n",
       "</style>\n",
       "<table border=\"1\" class=\"dataframe\">\n",
       "  <thead>\n",
       "    <tr style=\"text-align: right;\">\n",
       "      <th></th>\n",
       "      <th>Temperature</th>\n",
       "      <th>Pressure</th>\n",
       "      <th>Vibration</th>\n",
       "      <th>Humidity</th>\n",
       "      <th>Failure</th>\n",
       "    </tr>\n",
       "  </thead>\n",
       "  <tbody>\n",
       "    <tr>\n",
       "      <th>0</th>\n",
       "      <td>-0.241262</td>\n",
       "      <td>1.142597</td>\n",
       "      <td>0.923072</td>\n",
       "      <td>-0.690062</td>\n",
       "      <td>-0.226401</td>\n",
       "    </tr>\n",
       "    <tr>\n",
       "      <th>1</th>\n",
       "      <td>-1.316431</td>\n",
       "      <td>0.828578</td>\n",
       "      <td>0.634674</td>\n",
       "      <td>-2.360345</td>\n",
       "      <td>-0.226401</td>\n",
       "    </tr>\n",
       "    <tr>\n",
       "      <th>2</th>\n",
       "      <td>0.181451</td>\n",
       "      <td>-1.306573</td>\n",
       "      <td>-0.643702</td>\n",
       "      <td>-0.977911</td>\n",
       "      <td>-0.226401</td>\n",
       "    </tr>\n",
       "    <tr>\n",
       "      <th>3</th>\n",
       "      <td>-0.779197</td>\n",
       "      <td>0.475135</td>\n",
       "      <td>1.042234</td>\n",
       "      <td>-1.121898</td>\n",
       "      <td>-0.226401</td>\n",
       "    </tr>\n",
       "    <tr>\n",
       "      <th>4</th>\n",
       "      <td>-0.442801</td>\n",
       "      <td>-0.425890</td>\n",
       "      <td>0.553164</td>\n",
       "      <td>-0.760822</td>\n",
       "      <td>-0.226401</td>\n",
       "    </tr>\n",
       "    <tr>\n",
       "      <th>...</th>\n",
       "      <td>...</td>\n",
       "      <td>...</td>\n",
       "      <td>...</td>\n",
       "      <td>...</td>\n",
       "      <td>...</td>\n",
       "    </tr>\n",
       "    <tr>\n",
       "      <th>8732</th>\n",
       "      <td>-0.596933</td>\n",
       "      <td>1.190770</td>\n",
       "      <td>0.072910</td>\n",
       "      <td>1.654642</td>\n",
       "      <td>-0.226401</td>\n",
       "    </tr>\n",
       "    <tr>\n",
       "      <th>8733</th>\n",
       "      <td>0.721980</td>\n",
       "      <td>0.606253</td>\n",
       "      <td>-1.194843</td>\n",
       "      <td>0.770732</td>\n",
       "      <td>-0.226401</td>\n",
       "    </tr>\n",
       "    <tr>\n",
       "      <th>8734</th>\n",
       "      <td>0.288065</td>\n",
       "      <td>-0.980823</td>\n",
       "      <td>1.044132</td>\n",
       "      <td>0.200605</td>\n",
       "      <td>-0.226401</td>\n",
       "    </tr>\n",
       "    <tr>\n",
       "      <th>8735</th>\n",
       "      <td>1.872072</td>\n",
       "      <td>0.465157</td>\n",
       "      <td>-0.680441</td>\n",
       "      <td>1.009776</td>\n",
       "      <td>-0.226401</td>\n",
       "    </tr>\n",
       "    <tr>\n",
       "      <th>8736</th>\n",
       "      <td>-0.679722</td>\n",
       "      <td>-0.213387</td>\n",
       "      <td>-0.588077</td>\n",
       "      <td>-2.060898</td>\n",
       "      <td>-0.226401</td>\n",
       "    </tr>\n",
       "  </tbody>\n",
       "</table>\n",
       "<p>8737 rows × 5 columns</p>\n",
       "</div>"
      ],
      "text/plain": [
       "      Temperature  Pressure  Vibration  Humidity   Failure\n",
       "0       -0.241262  1.142597   0.923072 -0.690062 -0.226401\n",
       "1       -1.316431  0.828578   0.634674 -2.360345 -0.226401\n",
       "2        0.181451 -1.306573  -0.643702 -0.977911 -0.226401\n",
       "3       -0.779197  0.475135   1.042234 -1.121898 -0.226401\n",
       "4       -0.442801 -0.425890   0.553164 -0.760822 -0.226401\n",
       "...           ...       ...        ...       ...       ...\n",
       "8732    -0.596933  1.190770   0.072910  1.654642 -0.226401\n",
       "8733     0.721980  0.606253  -1.194843  0.770732 -0.226401\n",
       "8734     0.288065 -0.980823   1.044132  0.200605 -0.226401\n",
       "8735     1.872072  0.465157  -0.680441  1.009776 -0.226401\n",
       "8736    -0.679722 -0.213387  -0.588077 -2.060898 -0.226401\n",
       "\n",
       "[8737 rows x 5 columns]"
      ]
     },
     "execution_count": 11,
     "metadata": {},
     "output_type": "execute_result"
    }
   ],
   "source": [
    "data_standardized    # for data standardisation of data zscore applied"
   ]
  },
  {
   "cell_type": "code",
   "execution_count": 12,
   "id": "bbeb383a",
   "metadata": {},
   "outputs": [
    {
     "data": {
      "text/plain": [
       "Index(['Temperature', 'Pressure', 'Vibration', 'Humidity', 'Failure'], dtype='object')"
      ]
     },
     "execution_count": 12,
     "metadata": {},
     "output_type": "execute_result"
    }
   ],
   "source": [
    "data_standardized.columns"
   ]
  },
  {
   "cell_type": "code",
   "execution_count": 13,
   "id": "45eb57b1",
   "metadata": {},
   "outputs": [],
   "source": [
    "import matplotlib.pyplot as plt\n",
    "import numpy as np\n",
    "import seaborn as sns"
   ]
  },
  {
   "cell_type": "code",
   "execution_count": 14,
   "id": "0fe24968",
   "metadata": {},
   "outputs": [
    {
     "data": {
      "text/html": [
       "<div>\n",
       "<style scoped>\n",
       "    .dataframe tbody tr th:only-of-type {\n",
       "        vertical-align: middle;\n",
       "    }\n",
       "\n",
       "    .dataframe tbody tr th {\n",
       "        vertical-align: top;\n",
       "    }\n",
       "\n",
       "    .dataframe thead th {\n",
       "        text-align: right;\n",
       "    }\n",
       "</style>\n",
       "<table border=\"1\" class=\"dataframe\">\n",
       "  <thead>\n",
       "    <tr style=\"text-align: right;\">\n",
       "      <th></th>\n",
       "      <th>Temperature</th>\n",
       "      <th>Pressure</th>\n",
       "      <th>Vibration</th>\n",
       "      <th>Humidity</th>\n",
       "      <th>Failure</th>\n",
       "    </tr>\n",
       "  </thead>\n",
       "  <tbody>\n",
       "    <tr>\n",
       "      <th>Temperature</th>\n",
       "      <td>1.000000</td>\n",
       "      <td>-0.003997</td>\n",
       "      <td>-0.003345</td>\n",
       "      <td>0.018575</td>\n",
       "      <td>-0.005177</td>\n",
       "    </tr>\n",
       "    <tr>\n",
       "      <th>Pressure</th>\n",
       "      <td>-0.003997</td>\n",
       "      <td>1.000000</td>\n",
       "      <td>-0.011699</td>\n",
       "      <td>-0.003345</td>\n",
       "      <td>-0.010030</td>\n",
       "    </tr>\n",
       "    <tr>\n",
       "      <th>Vibration</th>\n",
       "      <td>-0.003345</td>\n",
       "      <td>-0.011699</td>\n",
       "      <td>1.000000</td>\n",
       "      <td>-0.011047</td>\n",
       "      <td>-0.006912</td>\n",
       "    </tr>\n",
       "    <tr>\n",
       "      <th>Humidity</th>\n",
       "      <td>0.018575</td>\n",
       "      <td>-0.003345</td>\n",
       "      <td>-0.011047</td>\n",
       "      <td>1.000000</td>\n",
       "      <td>-0.004122</td>\n",
       "    </tr>\n",
       "    <tr>\n",
       "      <th>Failure</th>\n",
       "      <td>-0.005177</td>\n",
       "      <td>-0.010030</td>\n",
       "      <td>-0.006912</td>\n",
       "      <td>-0.004122</td>\n",
       "      <td>1.000000</td>\n",
       "    </tr>\n",
       "  </tbody>\n",
       "</table>\n",
       "</div>"
      ],
      "text/plain": [
       "             Temperature  Pressure  Vibration  Humidity   Failure\n",
       "Temperature     1.000000 -0.003997  -0.003345  0.018575 -0.005177\n",
       "Pressure       -0.003997  1.000000  -0.011699 -0.003345 -0.010030\n",
       "Vibration      -0.003345 -0.011699   1.000000 -0.011047 -0.006912\n",
       "Humidity        0.018575 -0.003345  -0.011047  1.000000 -0.004122\n",
       "Failure        -0.005177 -0.010030  -0.006912 -0.004122  1.000000"
      ]
     },
     "execution_count": 14,
     "metadata": {},
     "output_type": "execute_result"
    }
   ],
   "source": [
    "#Correlation Analysis (Numeric-Numeric)\n",
    "data_standardized.corr()"
   ]
  },
  {
   "cell_type": "code",
   "execution_count": 15,
   "id": "92f057b9",
   "metadata": {},
   "outputs": [],
   "source": [
    "X = data_standardized.drop(\"Failure\", axis = 1).values"
   ]
  },
  {
   "cell_type": "code",
   "execution_count": 16,
   "id": "af3a4419",
   "metadata": {},
   "outputs": [
    {
     "data": {
      "text/plain": [
       "array([[-0.2412619 ,  1.14259744,  0.92307166, -0.6900623 ],\n",
       "       [-1.31643057,  0.82857835,  0.63467401, -2.36034454],\n",
       "       [ 0.1814514 , -1.30657295, -0.64370183, -0.97791141],\n",
       "       ...,\n",
       "       [ 0.28806457, -0.98082265,  1.04413181,  0.20060496],\n",
       "       [ 1.87207228,  0.46515686, -0.68044058,  1.00977555],\n",
       "       [-0.67972183, -0.21338661, -0.58807662, -2.0608984 ]])"
      ]
     },
     "execution_count": 16,
     "metadata": {},
     "output_type": "execute_result"
    }
   ],
   "source": [
    "X"
   ]
  },
  {
   "cell_type": "code",
   "execution_count": 17,
   "id": "64216713",
   "metadata": {},
   "outputs": [],
   "source": [
    "y = data_standardized['Failure'].values"
   ]
  },
  {
   "cell_type": "code",
   "execution_count": 18,
   "id": "dc38c631",
   "metadata": {},
   "outputs": [
    {
     "data": {
      "text/plain": [
       "array([-0.2264009, -0.2264009, -0.2264009, ..., -0.2264009, -0.2264009,\n",
       "       -0.2264009])"
      ]
     },
     "execution_count": 18,
     "metadata": {},
     "output_type": "execute_result"
    }
   ],
   "source": [
    "y"
   ]
  },
  {
   "cell_type": "code",
   "execution_count": 19,
   "id": "74ff1b67",
   "metadata": {},
   "outputs": [
    {
     "data": {
      "text/html": [
       "<div>\n",
       "<style scoped>\n",
       "    .dataframe tbody tr th:only-of-type {\n",
       "        vertical-align: middle;\n",
       "    }\n",
       "\n",
       "    .dataframe tbody tr th {\n",
       "        vertical-align: top;\n",
       "    }\n",
       "\n",
       "    .dataframe thead th {\n",
       "        text-align: right;\n",
       "    }\n",
       "</style>\n",
       "<table border=\"1\" class=\"dataframe\">\n",
       "  <thead>\n",
       "    <tr style=\"text-align: right;\">\n",
       "      <th></th>\n",
       "      <th>Temperature</th>\n",
       "      <th>Pressure</th>\n",
       "      <th>Vibration</th>\n",
       "      <th>Humidity</th>\n",
       "      <th>Failure</th>\n",
       "    </tr>\n",
       "  </thead>\n",
       "  <tbody>\n",
       "    <tr>\n",
       "      <th>0</th>\n",
       "      <td>-0.241262</td>\n",
       "      <td>1.142597</td>\n",
       "      <td>0.923072</td>\n",
       "      <td>-0.690062</td>\n",
       "      <td>-0.226401</td>\n",
       "    </tr>\n",
       "    <tr>\n",
       "      <th>1</th>\n",
       "      <td>-1.316431</td>\n",
       "      <td>0.828578</td>\n",
       "      <td>0.634674</td>\n",
       "      <td>-2.360345</td>\n",
       "      <td>-0.226401</td>\n",
       "    </tr>\n",
       "    <tr>\n",
       "      <th>2</th>\n",
       "      <td>0.181451</td>\n",
       "      <td>-1.306573</td>\n",
       "      <td>-0.643702</td>\n",
       "      <td>-0.977911</td>\n",
       "      <td>-0.226401</td>\n",
       "    </tr>\n",
       "    <tr>\n",
       "      <th>3</th>\n",
       "      <td>-0.779197</td>\n",
       "      <td>0.475135</td>\n",
       "      <td>1.042234</td>\n",
       "      <td>-1.121898</td>\n",
       "      <td>-0.226401</td>\n",
       "    </tr>\n",
       "    <tr>\n",
       "      <th>4</th>\n",
       "      <td>-0.442801</td>\n",
       "      <td>-0.425890</td>\n",
       "      <td>0.553164</td>\n",
       "      <td>-0.760822</td>\n",
       "      <td>-0.226401</td>\n",
       "    </tr>\n",
       "    <tr>\n",
       "      <th>...</th>\n",
       "      <td>...</td>\n",
       "      <td>...</td>\n",
       "      <td>...</td>\n",
       "      <td>...</td>\n",
       "      <td>...</td>\n",
       "    </tr>\n",
       "    <tr>\n",
       "      <th>8732</th>\n",
       "      <td>-0.596933</td>\n",
       "      <td>1.190770</td>\n",
       "      <td>0.072910</td>\n",
       "      <td>1.654642</td>\n",
       "      <td>-0.226401</td>\n",
       "    </tr>\n",
       "    <tr>\n",
       "      <th>8733</th>\n",
       "      <td>0.721980</td>\n",
       "      <td>0.606253</td>\n",
       "      <td>-1.194843</td>\n",
       "      <td>0.770732</td>\n",
       "      <td>-0.226401</td>\n",
       "    </tr>\n",
       "    <tr>\n",
       "      <th>8734</th>\n",
       "      <td>0.288065</td>\n",
       "      <td>-0.980823</td>\n",
       "      <td>1.044132</td>\n",
       "      <td>0.200605</td>\n",
       "      <td>-0.226401</td>\n",
       "    </tr>\n",
       "    <tr>\n",
       "      <th>8735</th>\n",
       "      <td>1.872072</td>\n",
       "      <td>0.465157</td>\n",
       "      <td>-0.680441</td>\n",
       "      <td>1.009776</td>\n",
       "      <td>-0.226401</td>\n",
       "    </tr>\n",
       "    <tr>\n",
       "      <th>8736</th>\n",
       "      <td>-0.679722</td>\n",
       "      <td>-0.213387</td>\n",
       "      <td>-0.588077</td>\n",
       "      <td>-2.060898</td>\n",
       "      <td>-0.226401</td>\n",
       "    </tr>\n",
       "  </tbody>\n",
       "</table>\n",
       "<p>8737 rows × 5 columns</p>\n",
       "</div>"
      ],
      "text/plain": [
       "      Temperature  Pressure  Vibration  Humidity   Failure\n",
       "0       -0.241262  1.142597   0.923072 -0.690062 -0.226401\n",
       "1       -1.316431  0.828578   0.634674 -2.360345 -0.226401\n",
       "2        0.181451 -1.306573  -0.643702 -0.977911 -0.226401\n",
       "3       -0.779197  0.475135   1.042234 -1.121898 -0.226401\n",
       "4       -0.442801 -0.425890   0.553164 -0.760822 -0.226401\n",
       "...           ...       ...        ...       ...       ...\n",
       "8732    -0.596933  1.190770   0.072910  1.654642 -0.226401\n",
       "8733     0.721980  0.606253  -1.194843  0.770732 -0.226401\n",
       "8734     0.288065 -0.980823   1.044132  0.200605 -0.226401\n",
       "8735     1.872072  0.465157  -0.680441  1.009776 -0.226401\n",
       "8736    -0.679722 -0.213387  -0.588077 -2.060898 -0.226401\n",
       "\n",
       "[8737 rows x 5 columns]"
      ]
     },
     "execution_count": 19,
     "metadata": {},
     "output_type": "execute_result"
    }
   ],
   "source": [
    "data_standardized"
   ]
  },
  {
   "cell_type": "code",
   "execution_count": 20,
   "id": "1412e797",
   "metadata": {},
   "outputs": [
    {
     "data": {
      "text/plain": [
       "[]"
      ]
     },
     "execution_count": 20,
     "metadata": {},
     "output_type": "execute_result"
    },
    {
     "data": {
      "image/png": "[encoded data removed]",
      "text/plain": [
       "<Figure size 1000x600 with 6 Axes>"
      ]
     },
     "metadata": {},
     "output_type": "display_data"
    }
   ],
   "source": [
    "#for checking distribution of data\n",
    "data_standardized.hist(figsize = (10,6))\n",
    "plt.tight_layout()\n",
    "plt.plot()"
   ]
  },
  {
   "cell_type": "code",
   "execution_count": 21,
   "id": "bb55867c",
   "metadata": {},
   "outputs": [],
   "source": [
    "#outlier detection\n",
    "import seaborn as sns"
   ]
  },
  {
   "cell_type": "code",
   "execution_count": 22,
   "id": "e772a29c",
   "metadata": {},
   "outputs": [
    {
     "data": {
      "image/png": "[encoded data removed]",
      "text/plain": [
       "<Figure size 600x400 with 1 Axes>"
      ]
     },
     "metadata": {},
     "output_type": "display_data"
    }
   ],
   "source": [
    "column_name = ['Temperature']\n",
    "plt.figure(figsize = (6,4))\n",
    "sns.boxplot(data = data_standardized[column_name])\n",
    "plt.xlabel('catagory')\n",
    "plt.ylabel('Value')\n",
    "plt.title('Box Plot')\n",
    "plt.show()"
   ]
  },
  {
   "cell_type": "code",
   "execution_count": 23,
   "id": "f10f56e2",
   "metadata": {},
   "outputs": [
    {
     "data": {
      "image/png": "[encoded data removed]",
      "text/plain": [
       "<Figure size 600x400 with 1 Axes>"
      ]
     },
     "metadata": {},
     "output_type": "display_data"
    }
   ],
   "source": [
    "column_name = ['Pressure']\n",
    "plt.figure(figsize = (6,4))\n",
    "sns.boxplot(data = data_standardized[column_name])\n",
    "plt.xlabel('catagory')\n",
    "plt.ylabel('Value')\n",
    "plt.title('Box Plot')\n",
    "plt.show()"
   ]
  },
  {
   "cell_type": "code",
   "execution_count": 24,
   "id": "a9dd3855",
   "metadata": {},
   "outputs": [
    {
     "data": {
      "image/png": "[encoded data removed]",
      "text/plain": [
       "<Figure size 600x400 with 1 Axes>"
      ]
     },
     "metadata": {},
     "output_type": "display_data"
    }
   ],
   "source": [
    "column_name = ['Vibration']\n",
    "plt.figure(figsize = (6,4))\n",
    "sns.boxplot(data = data_standardized[column_name])\n",
    "plt.xlabel('catagory')\n",
    "plt.ylabel('Value')\n",
    "plt.title('Box Plot')\n",
    "plt.show()"
   ]
  },
  {
   "cell_type": "code",
   "execution_count": 25,
   "id": "522d8fb1",
   "metadata": {},
   "outputs": [
    {
     "data": {
      "image/png": "[encoded data removed]",
      "text/plain": [
       "<Figure size 600x400 with 1 Axes>"
      ]
     },
     "metadata": {},
     "output_type": "display_data"
    }
   ],
   "source": [
    "column_name = ['Humidity']\n",
    "plt.figure(figsize = (6,4))\n",
    "sns.boxplot(data = data_standardized[column_name])\n",
    "plt.xlabel('catagory')\n",
    "plt.ylabel('Value')\n",
    "plt.title('Box Plot')\n",
    "plt.show()"
   ]
  },
  {
   "cell_type": "code",
   "execution_count": 26,
   "id": "a948b779",
   "metadata": {},
   "outputs": [],
   "source": [
    "# Random Forest, Gradient Boosting, Support Vector Machines, etc."
   ]
  },
  {
   "cell_type": "code",
   "execution_count": 27,
   "id": "118adc9c",
   "metadata": {},
   "outputs": [],
   "source": [
    "#Random Forest"
   ]
  },
  {
   "cell_type": "code",
   "execution_count": 83,
   "id": "9f12b982",
   "metadata": {},
   "outputs": [],
   "source": [
    "from sklearn.model_selection import train_test_split"
   ]
  },
  {
   "cell_type": "code",
   "execution_count": 84,
   "id": "43feb983",
   "metadata": {},
   "outputs": [],
   "source": [
    "X_train,X_test,y_train,y_test = train_test_split(X,y, test_size=0.2, random_state=50)"
   ]
  },
  {
   "cell_type": "code",
   "execution_count": 85,
   "id": "1266941f",
   "metadata": {},
   "outputs": [
    {
     "data": {
      "text/plain": [
       "(6989, 4)"
      ]
     },
     "execution_count": 85,
     "metadata": {},
     "output_type": "execute_result"
    }
   ],
   "source": [
    "X_train.shape"
   ]
  },
  {
   "cell_type": "code",
   "execution_count": 86,
   "id": "8a537184",
   "metadata": {},
   "outputs": [
    {
     "data": {
      "text/plain": [
       "(1748, 4)"
      ]
     },
     "execution_count": 86,
     "metadata": {},
     "output_type": "execute_result"
    }
   ],
   "source": [
    "X_test.shape"
   ]
  },
  {
   "cell_type": "code",
   "execution_count": 96,
   "id": "2a407e3a",
   "metadata": {},
   "outputs": [
    {
     "name": "stdout",
     "output_type": "stream",
     "text": [
      "Accuracy: 0.9490846681922197\n"
     ]
    }
   ],
   "source": [
    "from sklearn.model_selection import train_test_split\n",
    "from sklearn.ensemble import RandomForestClassifier\n",
    "from sklearn.metrics import accuracy_score\n",
    "\n",
    "# Split the dataset into training and testing sets\n",
    "X_train, X_test, y_train, y_test = train_test_split(X, y, test_size=0.2, random_state=42)\n",
    "\n",
    "# Initialize the Random Forest Classifier\n",
    "rf_classifier = RandomForestClassifier(n_estimators=100, random_state=42)\n",
    "\n",
    "# Train the classifier on the training data\n",
    "rf_classifier.fit(X_train, y_train)\n",
    "\n",
    "# Make predictions on the testing data\n",
    "y_pred = rf_classifier.predict(X_test)\n",
    "\n",
    "# Calculate accuracy\n",
    "accuracy = accuracy_score(y_test, y_pred)\n",
    "\n",
    "print(\"Accuracy:\", accuracy)\n"
   ]
  },
  {
   "cell_type": "code",
   "execution_count": null,
   "id": "3279bea9",
   "metadata": {},
   "outputs": [],
   "source": [
    "# Support Vector Machines"
   ]
  },
  {
   "cell_type": "code",
   "execution_count": 56,
   "id": "d8f55adc",
   "metadata": {},
   "outputs": [],
   "source": [
    "y = data['Failure'].values  # checking failure states"
   ]
  },
  {
   "cell_type": "code",
   "execution_count": 57,
   "id": "14c508f8",
   "metadata": {},
   "outputs": [
    {
     "data": {
      "text/plain": [
       "array([0, 0, 0, ..., 0, 0, 0], dtype=int64)"
      ]
     },
     "execution_count": 57,
     "metadata": {},
     "output_type": "execute_result"
    }
   ],
   "source": [
    "y"
   ]
  },
  {
   "cell_type": "code",
   "execution_count": 58,
   "id": "c2db8716",
   "metadata": {},
   "outputs": [],
   "source": [
    "from sklearn.model_selection import train_test_split"
   ]
  },
  {
   "cell_type": "code",
   "execution_count": 59,
   "id": "0deb0949",
   "metadata": {},
   "outputs": [],
   "source": [
    "x_train,x_test,y_train,y_test = train_test_split(X,y,test_size=0.2, random_state=50)"
   ]
  },
  {
   "cell_type": "code",
   "execution_count": 60,
   "id": "354da284",
   "metadata": {},
   "outputs": [
    {
     "data": {
      "text/plain": [
       "(6989, 4)"
      ]
     },
     "execution_count": 60,
     "metadata": {},
     "output_type": "execute_result"
    }
   ],
   "source": [
    "x_train.shape"
   ]
  },
  {
   "cell_type": "code",
   "execution_count": 61,
   "id": "0d911e4d",
   "metadata": {},
   "outputs": [
    {
     "data": {
      "text/plain": [
       "(1748, 4)"
      ]
     },
     "execution_count": 61,
     "metadata": {},
     "output_type": "execute_result"
    }
   ],
   "source": [
    "x_test.shape"
   ]
  },
  {
   "cell_type": "code",
   "execution_count": 62,
   "id": "9b279f59",
   "metadata": {},
   "outputs": [],
   "source": [
    "from sklearn.svm import SVC"
   ]
  },
  {
   "cell_type": "code",
   "execution_count": 63,
   "id": "3acb96c6",
   "metadata": {},
   "outputs": [],
   "source": [
    "cls = SVC(kernel=\"rbf\")"
   ]
  },
  {
   "cell_type": "code",
   "execution_count": 64,
   "id": "d48ef633",
   "metadata": {},
   "outputs": [
    {
     "data": {
      "text/html": [
       "<style>#sk-container-id-1 {color: black;background-color: white;}#sk-container-id-1 pre{padding: 0;}#sk-container-id-1 div.sk-toggleable {background-color: white;}#sk-container-id-1 label.sk-toggleable__label {cursor: pointer;display: block;width: 100%;margin-bottom: 0;padding: 0.3em;box-sizing: border-box;text-align: center;}#sk-container-id-1 label.sk-toggleable__label-arrow:before {content: \"▸\";float: left;margin-right: 0.25em;color: #696969;}#sk-container-id-1 label.sk-toggleable__label-arrow:hover:before {color: black;}#sk-container-id-1 div.sk-estimator:hover label.sk-toggleable__label-arrow:before {color: black;}#sk-container-id-1 div.sk-toggleable__content {max-height: 0;max-width: 0;overflow: hidden;text-align: left;background-color: #f0f8ff;}#sk-container-id-1 div.sk-toggleable__content pre {margin: 0.2em;color: black;border-radius: 0.25em;background-color: #f0f8ff;}#sk-container-id-1 input.sk-toggleable__control:checked~div.sk-toggleable__content {max-height: 200px;max-width: 100%;overflow: auto;}#sk-container-id-1 input.sk-toggleable__control:checked~label.sk-toggleable__label-arrow:before {content: \"▾\";}#sk-container-id-1 div.sk-estimator input.sk-toggleable__control:checked~label.sk-toggleable__label {background-color: #d4ebff;}#sk-container-id-1 div.sk-label input.sk-toggleable__control:checked~label.sk-toggleable__label {background-color: #d4ebff;}#sk-container-id-1 input.sk-hidden--visually {border: 0;clip: rect(1px 1px 1px 1px);clip: rect(1px, 1px, 1px, 1px);height: 1px;margin: -1px;overflow: hidden;padding: 0;position: absolute;width: 1px;}#sk-container-id-1 div.sk-estimator {font-family: monospace;background-color: #f0f8ff;border: 1px dotted black;border-radius: 0.25em;box-sizing: border-box;margin-bottom: 0.5em;}#sk-container-id-1 div.sk-estimator:hover {background-color: #d4ebff;}#sk-container-id-1 div.sk-parallel-item::after {content: \"\";width: 100%;border-bottom: 1px solid gray;flex-grow: 1;}#sk-container-id-1 div.sk-label:hover label.sk-toggleable__label {background-color: #d4ebff;}#sk-container-id-1 div.sk-serial::before {content: \"\";position: absolute;border-left: 1px solid gray;box-sizing: border-box;top: 0;bottom: 0;left: 50%;z-index: 0;}#sk-container-id-1 div.sk-serial {display: flex;flex-direction: column;align-items: center;background-color: white;padding-right: 0.2em;padding-left: 0.2em;position: relative;}#sk-container-id-1 div.sk-item {position: relative;z-index: 1;}#sk-container-id-1 div.sk-parallel {display: flex;align-items: stretch;justify-content: center;background-color: white;position: relative;}#sk-container-id-1 div.sk-item::before, #sk-container-id-1 div.sk-parallel-item::before {content: \"\";position: absolute;border-left: 1px solid gray;box-sizing: border-box;top: 0;bottom: 0;left: 50%;z-index: -1;}#sk-container-id-1 div.sk-parallel-item {display: flex;flex-direction: column;z-index: 1;position: relative;background-color: white;}#sk-container-id-1 div.sk-parallel-item:first-child::after {align-self: flex-end;width: 50%;}#sk-container-id-1 div.sk-parallel-item:last-child::after {align-self: flex-start;width: 50%;}#sk-container-id-1 div.sk-parallel-item:only-child::after {width: 0;}#sk-container-id-1 div.sk-dashed-wrapped {border: 1px dashed gray;margin: 0 0.4em 0.5em 0.4em;box-sizing: border-box;padding-bottom: 0.4em;background-color: white;}#sk-container-id-1 div.sk-label label {font-family: monospace;font-weight: bold;display: inline-block;line-height: 1.2em;}#sk-container-id-1 div.sk-label-container {text-align: center;}#sk-container-id-1 div.sk-container {/* jupyter's `normalize.less` sets `[hidden] { display: none; }` but bootstrap.min.css set `[hidden] { display: none !important; }` so we also need the `!important` here to be able to override the default hidden behavior on the sphinx rendered scikit-learn.org. See: https://github.com/scikit-learn/scikit-learn/issues/21755 */display: inline-block !important;position: relative;}#sk-container-id-1 div.sk-text-repr-fallback {display: none;}</style><div id=\"sk-container-id-1\" class=\"sk-top-container\"><div class=\"sk-text-repr-fallback\"><pre>SVC()</pre><b>In a Jupyter environment, please rerun this cell to show the HTML representation or trust the notebook. <br />On GitHub, the HTML representation is unable to render, please try loading this page with nbviewer.org.</b></div><div class=\"sk-container\" hidden><div class=\"sk-item\"><div class=\"sk-estimator sk-toggleable\"><input class=\"sk-toggleable__control sk-hidden--visually\" id=\"sk-estimator-id-1\" type=\"checkbox\" checked><label for=\"sk-estimator-id-1\" class=\"sk-toggleable__label sk-toggleable__label-arrow\">SVC</label><div class=\"sk-toggleable__content\"><pre>SVC()</pre></div></div></div></div></div>"
      ],
      "text/plain": [
       "SVC()"
      ]
     },
     "execution_count": 64,
     "metadata": {},
     "output_type": "execute_result"
    }
   ],
   "source": [
    "cls.fit(x_train,y_train)"
   ]
  },
  {
   "cell_type": "code",
   "execution_count": 65,
   "id": "48ad2d88",
   "metadata": {},
   "outputs": [],
   "source": [
    "ypred = cls.predict(x_test)"
   ]
  },
  {
   "cell_type": "code",
   "execution_count": 66,
   "id": "1ae9c69f",
   "metadata": {},
   "outputs": [],
   "source": [
    "from sklearn.metrics import accuracy_score"
   ]
  },
  {
   "cell_type": "code",
   "execution_count": 67,
   "id": "4cc99446",
   "metadata": {},
   "outputs": [
    {
     "data": {
      "text/plain": [
       "0.9559496567505721"
      ]
     },
     "execution_count": 67,
     "metadata": {},
     "output_type": "execute_result"
    }
   ],
   "source": [
    "accuracy_score(ypred,y_test)"
   ]
  },
  {
   "cell_type": "code",
   "execution_count": 68,
   "id": "0f2bbe29",
   "metadata": {},
   "outputs": [],
   "source": [
    "# 'kernel': ['linear', 'poly', 'rbf', 'sigmoid'],  # Kernel type for hyperparameter tuning"
   ]
  },
  {
   "cell_type": "code",
   "execution_count": 69,
   "id": "11bc8f5b",
   "metadata": {},
   "outputs": [],
   "source": [
    "cls = SVC(kernel=\"linear\")"
   ]
  },
  {
   "cell_type": "code",
   "execution_count": 70,
   "id": "5f5a547d",
   "metadata": {},
   "outputs": [
    {
     "data": {
      "text/html": [
       "<style>#sk-container-id-2 {color: black;background-color: white;}#sk-container-id-2 pre{padding: 0;}#sk-container-id-2 div.sk-toggleable {background-color: white;}#sk-container-id-2 label.sk-toggleable__label {cursor: pointer;display: block;width: 100%;margin-bottom: 0;padding: 0.3em;box-sizing: border-box;text-align: center;}#sk-container-id-2 label.sk-toggleable__label-arrow:before {content: \"▸\";float: left;margin-right: 0.25em;color: #696969;}#sk-container-id-2 label.sk-toggleable__label-arrow:hover:before {color: black;}#sk-container-id-2 div.sk-estimator:hover label.sk-toggleable__label-arrow:before {color: black;}#sk-container-id-2 div.sk-toggleable__content {max-height: 0;max-width: 0;overflow: hidden;text-align: left;background-color: #f0f8ff;}#sk-container-id-2 div.sk-toggleable__content pre {margin: 0.2em;color: black;border-radius: 0.25em;background-color: #f0f8ff;}#sk-container-id-2 input.sk-toggleable__control:checked~div.sk-toggleable__content {max-height: 200px;max-width: 100%;overflow: auto;}#sk-container-id-2 input.sk-toggleable__control:checked~label.sk-toggleable__label-arrow:before {content: \"▾\";}#sk-container-id-2 div.sk-estimator input.sk-toggleable__control:checked~label.sk-toggleable__label {background-color: #d4ebff;}#sk-container-id-2 div.sk-label input.sk-toggleable__control:checked~label.sk-toggleable__label {background-color: #d4ebff;}#sk-container-id-2 input.sk-hidden--visually {border: 0;clip: rect(1px 1px 1px 1px);clip: rect(1px, 1px, 1px, 1px);height: 1px;margin: -1px;overflow: hidden;padding: 0;position: absolute;width: 1px;}#sk-container-id-2 div.sk-estimator {font-family: monospace;background-color: #f0f8ff;border: 1px dotted black;border-radius: 0.25em;box-sizing: border-box;margin-bottom: 0.5em;}#sk-container-id-2 div.sk-estimator:hover {background-color: #d4ebff;}#sk-container-id-2 div.sk-parallel-item::after {content: \"\";width: 100%;border-bottom: 1px solid gray;flex-grow: 1;}#sk-container-id-2 div.sk-label:hover label.sk-toggleable__label {background-color: #d4ebff;}#sk-container-id-2 div.sk-serial::before {content: \"\";position: absolute;border-left: 1px solid gray;box-sizing: border-box;top: 0;bottom: 0;left: 50%;z-index: 0;}#sk-container-id-2 div.sk-serial {display: flex;flex-direction: column;align-items: center;background-color: white;padding-right: 0.2em;padding-left: 0.2em;position: relative;}#sk-container-id-2 div.sk-item {position: relative;z-index: 1;}#sk-container-id-2 div.sk-parallel {display: flex;align-items: stretch;justify-content: center;background-color: white;position: relative;}#sk-container-id-2 div.sk-item::before, #sk-container-id-2 div.sk-parallel-item::before {content: \"\";position: absolute;border-left: 1px solid gray;box-sizing: border-box;top: 0;bottom: 0;left: 50%;z-index: -1;}#sk-container-id-2 div.sk-parallel-item {display: flex;flex-direction: column;z-index: 1;position: relative;background-color: white;}#sk-container-id-2 div.sk-parallel-item:first-child::after {align-self: flex-end;width: 50%;}#sk-container-id-2 div.sk-parallel-item:last-child::after {align-self: flex-start;width: 50%;}#sk-container-id-2 div.sk-parallel-item:only-child::after {width: 0;}#sk-container-id-2 div.sk-dashed-wrapped {border: 1px dashed gray;margin: 0 0.4em 0.5em 0.4em;box-sizing: border-box;padding-bottom: 0.4em;background-color: white;}#sk-container-id-2 div.sk-label label {font-family: monospace;font-weight: bold;display: inline-block;line-height: 1.2em;}#sk-container-id-2 div.sk-label-container {text-align: center;}#sk-container-id-2 div.sk-container {/* jupyter's `normalize.less` sets `[hidden] { display: none; }` but bootstrap.min.css set `[hidden] { display: none !important; }` so we also need the `!important` here to be able to override the default hidden behavior on the sphinx rendered scikit-learn.org. See: https://github.com/scikit-learn/scikit-learn/issues/21755 */display: inline-block !important;position: relative;}#sk-container-id-2 div.sk-text-repr-fallback {display: none;}</style><div id=\"sk-container-id-2\" class=\"sk-top-container\"><div class=\"sk-text-repr-fallback\"><pre>SVC(kernel=&#x27;linear&#x27;)</pre><b>In a Jupyter environment, please rerun this cell to show the HTML representation or trust the notebook. <br />On GitHub, the HTML representation is unable to render, please try loading this page with nbviewer.org.</b></div><div class=\"sk-container\" hidden><div class=\"sk-item\"><div class=\"sk-estimator sk-toggleable\"><input class=\"sk-toggleable__control sk-hidden--visually\" id=\"sk-estimator-id-2\" type=\"checkbox\" checked><label for=\"sk-estimator-id-2\" class=\"sk-toggleable__label sk-toggleable__label-arrow\">SVC</label><div class=\"sk-toggleable__content\"><pre>SVC(kernel=&#x27;linear&#x27;)</pre></div></div></div></div></div>"
      ],
      "text/plain": [
       "SVC(kernel='linear')"
      ]
     },
     "execution_count": 70,
     "metadata": {},
     "output_type": "execute_result"
    }
   ],
   "source": [
    "cls.fit(x_train,y_train)"
   ]
  },
  {
   "cell_type": "code",
   "execution_count": 71,
   "id": "dec5c25b",
   "metadata": {},
   "outputs": [],
   "source": [
    "ypred = cls.predict(x_test)"
   ]
  },
  {
   "cell_type": "code",
   "execution_count": 72,
   "id": "fefc9650",
   "metadata": {},
   "outputs": [],
   "source": [
    "from sklearn.metrics import accuracy_score"
   ]
  },
  {
   "cell_type": "code",
   "execution_count": 73,
   "id": "2499321e",
   "metadata": {},
   "outputs": [
    {
     "data": {
      "text/plain": [
       "0.9559496567505721"
      ]
     },
     "execution_count": 73,
     "metadata": {},
     "output_type": "execute_result"
    }
   ],
   "source": [
    "accuracy_score(ypred,y_test)"
   ]
  },
  {
   "cell_type": "code",
   "execution_count": 74,
   "id": "66fbda02",
   "metadata": {},
   "outputs": [],
   "source": [
    "userInput = np.array([[25,100,1.5,45]])"
   ]
  },
  {
   "cell_type": "code",
   "execution_count": 75,
   "id": "b3558969",
   "metadata": {},
   "outputs": [],
   "source": [
    "output = cls.predict(userInput)"
   ]
  },
  {
   "cell_type": "code",
   "execution_count": 76,
   "id": "9b207cd8",
   "metadata": {},
   "outputs": [
    {
     "data": {
      "text/plain": [
       "array([0], dtype=int64)"
      ]
     },
     "execution_count": 76,
     "metadata": {},
     "output_type": "execute_result"
    }
   ],
   "source": [
    "output"
   ]
  },
  {
   "cell_type": "code",
   "execution_count": 105,
   "id": "391f5785",
   "metadata": {},
   "outputs": [
    {
     "name": "stdout",
     "output_type": "stream",
     "text": [
      "Failure is not predicted\n"
     ]
    }
   ],
   "source": [
    "if output[0] == 0:\n",
    "    print(\"Failure is not predicted\")\n",
    "else:\n",
    "    print(\"Failure is predicted\")"
   ]
  },
  {
   "cell_type": "code",
   "execution_count": 78,
   "id": "40fa67d0",
   "metadata": {},
   "outputs": [],
   "source": [
    "# getting same and maximum accuracy by using linear and rbf kernal"
   ]
  },
  {
   "cell_type": "code",
   "execution_count": 80,
   "id": "8e78b92a",
   "metadata": {},
   "outputs": [],
   "source": [
    "# Gradient Boosting"
   ]
  },
  {
   "cell_type": "code",
   "execution_count": 81,
   "id": "6856022c",
   "metadata": {},
   "outputs": [
    {
     "name": "stdout",
     "output_type": "stream",
     "text": [
      "Accuracy: 0.948512585812357\n"
     ]
    }
   ],
   "source": [
    "from sklearn.datasets import load_iris\n",
    "from sklearn.model_selection import train_test_split\n",
    "from sklearn.ensemble import GradientBoostingClassifier\n",
    "from sklearn.metrics import accuracy_score\n",
    "\n",
    "# Split data into train and test sets\n",
    "X_train, X_test, y_train, y_test = train_test_split(X, y, test_size=0.2, random_state=42)\n",
    "\n",
    "# Initialize Gradient Boosting Classifier\n",
    "gb_classifier = GradientBoostingClassifier(n_estimators=100, learning_rate=0.1, random_state=42)\n",
    "\n",
    "# Fit the model\n",
    "gb_classifier.fit(X_train, y_train)\n",
    "\n",
    "# Make predictions\n",
    "y_pred = gb_classifier.predict(X_test)\n",
    "\n",
    "# Evaluate the model\n",
    "accuracy = accuracy_score(y_test, y_pred)\n",
    "print(\"Accuracy:\", accuracy)"
   ]
  },
  {
   "cell_type": "code",
   "execution_count": null,
   "id": "a857666a",
   "metadata": {},
   "outputs": [],
   "source": [
    "# Experiment with ensemble techniques to improve model performance."
   ]
  },
  {
   "cell_type": "code",
   "execution_count": 101,
   "id": "8a66193f",
   "metadata": {},
   "outputs": [
    {
     "name": "stdout",
     "output_type": "stream",
     "text": [
      "Individual Classifier Accuracies:\n",
      "Random Forest: 1.0\n",
      "Gradient Boosting: 1.0\n",
      "Logistic Regression: 1.0\n",
      "\n",
      "Ensemble Classifier Accuracies:\n",
      "Bagging (Random Forest): 1.0\n",
      "Boosting (Gradient Boosting): 1.0\n",
      "Stacking (Voting Classifier): 1.0\n"
     ]
    }
   ],
   "source": [
    "from sklearn.model_selection import train_test_split\n",
    "from sklearn.ensemble import RandomForestClassifier, GradientBoostingClassifier\n",
    "from sklearn.linear_model import LogisticRegression\n",
    "from sklearn.ensemble import VotingClassifier\n",
    "from sklearn.metrics import accuracy_score\n",
    "\n",
    "# Split the dataset into training and testing sets\n",
    "X_train, X_test, y_train, y_test = train_test_split(X, y, test_size=0.2, random_state=42)\n",
    "\n",
    "# Initialize individual classifiers\n",
    "rf_classifier = RandomForestClassifier(n_estimators=100, random_state=42)\n",
    "gb_classifier = GradientBoostingClassifier(n_estimators=100, learning_rate=0.1, random_state=42)\n",
    "lr_classifier = LogisticRegression(max_iter=1000, random_state=42)\n",
    "\n",
    "# Bagging (Random Forest)\n",
    "bagging_classifier = RandomForestClassifier(n_estimators=100, random_state=42)\n",
    "\n",
    "# Boosting (Gradient Boosting)\n",
    "boosting_classifier = GradientBoostingClassifier(n_estimators=100, learning_rate=0.1, random_state=42)\n",
    "\n",
    "# Stacking (Voting Classifier)\n",
    "estimators = [('random_forest', rf_classifier), ('gradient_boosting', gb_classifier), ('logistic_regression', lr_classifier)]\n",
    "stacking_classifier = VotingClassifier(estimators)\n",
    "\n",
    "# Train individual classifiers\n",
    "rf_classifier.fit(X_train, y_train)\n",
    "gb_classifier.fit(X_train, y_train)\n",
    "lr_classifier.fit(X_train, y_train)\n",
    "\n",
    "# Train ensemble classifiers\n",
    "bagging_classifier.fit(X_train, y_train)\n",
    "boosting_classifier.fit(X_train, y_train)\n",
    "stacking_classifier.fit(X_train, y_train)\n",
    "\n",
    "# Make predictions\n",
    "y_pred_rf = rf_classifier.predict(X_test)\n",
    "y_pred_gb = gb_classifier.predict(X_test)\n",
    "y_pred_lr = lr_classifier.predict(X_test)\n",
    "y_pred_bagging = bagging_classifier.predict(X_test)\n",
    "y_pred_boosting = boosting_classifier.predict(X_test)\n",
    "y_pred_stacking = stacking_classifier.predict(X_test)\n",
    "\n",
    "# Evaluate individual classifiers\n",
    "accuracy_rf = accuracy_score(y_test, y_pred_rf)\n",
    "accuracy_gb = accuracy_score(y_test, y_pred_gb)\n",
    "accuracy_lr = accuracy_score(y_test, y_pred_lr)\n",
    "\n",
    "# Evaluate ensemble classifiers\n",
    "accuracy_bagging = accuracy_score(y_test, y_pred_bagging)\n",
    "accuracy_boosting = accuracy_score(y_test, y_pred_boosting)\n",
    "accuracy_stacking = accuracy_score(y_test, y_pred_stacking)\n",
    "\n",
    "print(\"Individual Classifier Accuracies:\")\n",
    "print(\"Random Forest:\", accuracy_rf)\n",
    "print(\"Gradient Boosting:\", accuracy_gb)\n",
    "print(\"Logistic Regression:\", accuracy_lr)\n",
    "\n",
    "print(\"\\nEnsemble Classifier Accuracies:\")\n",
    "print(\"Bagging (Random Forest):\", accuracy_bagging)\n",
    "print(\"Boosting (Gradient Boosting):\", accuracy_boosting)\n",
    "print(\"Stacking (Voting Classifier):\", accuracy_stacking)\n"
   ]
  },
  {
   "cell_type": "code",
   "execution_count": 100,
   "id": "36a905c5",
   "metadata": {},
   "outputs": [
    {
     "name": "stdout",
     "output_type": "stream",
     "text": [
      "Random Forest Regressor:\n",
      "RMSE: 0.037193189340702336\n",
      "MAE: 0.01366666666666667\n",
      "\n",
      "Gradient Boosting Regressor:\n",
      "RMSE: 0.06593367853774076\n",
      "MAE: 0.03101948917402032\n",
      "\n",
      "Linear Regression:\n",
      "RMSE: 0.1926494080135646\n",
      "MAE: 0.1463769496530853\n"
     ]
    }
   ],
   "source": [
    "from sklearn.model_selection import train_test_split\n",
    "from sklearn.ensemble import RandomForestRegressor, GradientBoostingRegressor\n",
    "from sklearn.linear_model import LinearRegression\n",
    "from sklearn.metrics import mean_squared_error, mean_absolute_error\n",
    "\n",
    "# Split the dataset into training and testing sets\n",
    "X_train, X_test, y_train, y_test = train_test_split(X, y, test_size=0.2, random_state=42)\n",
    "\n",
    "# Initialize individual regressors\n",
    "rf_regressor = RandomForestRegressor(n_estimators=100, random_state=42)\n",
    "gb_regressor = GradientBoostingRegressor(n_estimators=100, learning_rate=0.1, random_state=42)\n",
    "lr_regressor = LinearRegression()\n",
    "\n",
    "# Train individual regressors\n",
    "rf_regressor.fit(X_train, y_train)\n",
    "gb_regressor.fit(X_train, y_train)\n",
    "lr_regressor.fit(X_train, y_train)\n",
    "\n",
    "# Make predictions\n",
    "y_pred_rf = rf_regressor.predict(X_test)\n",
    "y_pred_gb = gb_regressor.predict(X_test)\n",
    "y_pred_lr = lr_regressor.predict(X_test)\n",
    "\n",
    "# Calculate RMSE and MAE for each regressor\n",
    "rmse_rf = mean_squared_error(y_test, y_pred_rf, squared=False)\n",
    "mae_rf = mean_absolute_error(y_test, y_pred_rf)\n",
    "\n",
    "rmse_gb = mean_squared_error(y_test, y_pred_gb, squared=False)\n",
    "mae_gb = mean_absolute_error(y_test, y_pred_gb)\n",
    "\n",
    "rmse_lr = mean_squared_error(y_test, y_pred_lr, squared=False)\n",
    "mae_lr = mean_absolute_error(y_test, y_pred_lr)\n",
    "\n",
    "print(\"Random Forest Regressor:\")\n",
    "print(\"RMSE:\", rmse_rf)\n",
    "print(\"MAE:\", mae_rf)\n",
    "print(\"\\nGradient Boosting Regressor:\")\n",
    "print(\"RMSE:\", rmse_gb)\n",
    "print(\"MAE:\", mae_gb)\n",
    "print(\"\\nLinear Regression:\")\n",
    "print(\"RMSE:\", rmse_lr)\n",
    "print(\"MAE:\", mae_lr)\n"
   ]
  },
  {
   "cell_type": "code",
   "execution_count": null,
   "id": "06ffc626",
   "metadata": {},
   "outputs": [],
   "source": [
    " # Compare the performance of different models and identify the best-performing one."
   ]
  },
  {
   "cell_type": "code",
   "execution_count": 102,
   "id": "3f4e2003",
   "metadata": {},
   "outputs": [
    {
     "name": "stdout",
     "output_type": "stream",
     "text": [
      "Accuracy Scores:\n",
      "Random Forest: 1.0\n",
      "Gradient Boosting: 1.0\n",
      "Logistic Regression: 1.0\n",
      "Best Performing Model: Random Forest\n"
     ]
    }
   ],
   "source": [
    "#from sklearn.datasets import load_iris\n",
    "from sklearn.model_selection import train_test_split\n",
    "from sklearn.ensemble import RandomForestClassifier, GradientBoostingClassifier\n",
    "from sklearn.linear_model import LogisticRegression\n",
    "from sklearn.metrics import accuracy_score\n",
    "\n",
    "# Load the Iris dataset\n",
    "#X, y = load_iris(return_X_y=True)\n",
    "\n",
    "# Split the dataset into training and testing sets\n",
    "X_train, X_test, y_train, y_test = train_test_split(X, y, test_size=0.2, random_state=42)\n",
    "\n",
    "# Initialize the classifiers\n",
    "rf_classifier = RandomForestClassifier(n_estimators=100, random_state=42)\n",
    "gb_classifier = GradientBoostingClassifier(n_estimators=100, learning_rate=0.1, random_state=42)\n",
    "lr_classifier = LogisticRegression(max_iter=1000, random_state=42)\n",
    "\n",
    "# Train the classifiers\n",
    "rf_classifier.fit(X_train, y_train)\n",
    "gb_classifier.fit(X_train, y_train)\n",
    "lr_classifier.fit(X_train, y_train)\n",
    "\n",
    "# Make predictions\n",
    "y_pred_rf = rf_classifier.predict(X_test)\n",
    "y_pred_gb = gb_classifier.predict(X_test)\n",
    "y_pred_lr = lr_classifier.predict(X_test)\n",
    "\n",
    "# Calculate accuracy for each classifier\n",
    "accuracy_rf = accuracy_score(y_test, y_pred_rf)\n",
    "accuracy_gb = accuracy_score(y_test, y_pred_gb)\n",
    "accuracy_lr = accuracy_score(y_test, y_pred_lr)\n",
    "\n",
    "print(\"Accuracy Scores:\")\n",
    "print(\"Random Forest:\", accuracy_rf)\n",
    "print(\"Gradient Boosting:\", accuracy_gb)\n",
    "print(\"Logistic Regression:\", accuracy_lr)\n",
    "\n",
    "# Identify the best-performing model\n",
    "best_model = max(accuracy_rf, accuracy_gb, accuracy_lr)\n",
    "if best_model == accuracy_rf:\n",
    "    print(\"Best Performing Model: Random Forest\")\n",
    "elif best_model == accuracy_gb:\n",
    "    print(\"Best Performing Model: Gradient Boosting\")\n",
    "else:\n",
    "    print(\"Best Performing Model: Logistic Regression\")\n"
   ]
  },
  {
   "cell_type": "code",
   "execution_count": null,
   "id": "45180410",
   "metadata": {},
   "outputs": [],
   "source": [
    "# Perform cross-validation to assess the model's generalization ability."
   ]
  },
  {
   "cell_type": "code",
   "execution_count": 104,
   "id": "25521721",
   "metadata": {},
   "outputs": [
    {
     "name": "stdout",
     "output_type": "stream",
     "text": [
      "Cross-Validation Scores for Random Forest Classifier: [0.96666667 0.96666667 0.93333333 0.96666667 1.        ]\n",
      "Mean Cross-Validation Score for Random Forest Classifier: 0.9666666666666668\n",
      "\n",
      "Cross-Validation Scores for Support Vector Machine (SVM): [0.96666667 0.96666667 0.96666667 0.93333333 1.        ]\n",
      "Mean Cross-Validation Score for Support Vector Machine (SVM): 0.9666666666666666\n",
      "\n",
      "Cross-Validation Scores for Gradient Boosting Classifier: [0.96666667 0.96666667 0.9        0.96666667 1.        ]\n",
      "Mean Cross-Validation Score for Gradient Boosting Classifier: 0.9600000000000002\n"
     ]
    }
   ],
   "source": [
    "from sklearn.model_selection import cross_val_score\n",
    "from sklearn.ensemble import RandomForestClassifier, GradientBoostingClassifier\n",
    "from sklearn.svm import SVC\n",
    "\n",
    "# Initialize the classifiers\n",
    "rf_classifier = RandomForestClassifier(n_estimators=100, random_state=42)\n",
    "svm_classifier = SVC()\n",
    "gb_classifier = GradientBoostingClassifier(n_estimators=100, learning_rate=0.1, random_state=42)\n",
    "\n",
    "# cross-validation with 5 folds\n",
    "cv_scores_rf = cross_val_score(rf_classifier, X, y, cv=5)\n",
    "cv_scores_svm = cross_val_score(svm_classifier, X, y, cv=5)\n",
    "cv_scores_gb = cross_val_score(gb_classifier, X, y, cv=5)\n",
    "\n",
    "# Print the cross-validation scores\n",
    "print(\"Cross-Validation Scores for Random Forest Classifier:\", cv_scores_rf)\n",
    "print(\"Mean Cross-Validation Score for Random Forest Classifier:\", cv_scores_rf.mean())\n",
    "print(\"\\nCross-Validation Scores for Support Vector Machine (SVM):\", cv_scores_svm)\n",
    "print(\"Mean Cross-Validation Score for Support Vector Machine (SVM):\", cv_scores_svm.mean())\n",
    "print(\"\\nCross-Validation Scores for Gradient Boosting Classifier:\", cv_scores_gb)\n",
    "print(\"Mean Cross-Validation Score for Gradient Boosting Classifier:\", cv_scores_gb.mean())\n"
   ]
  },
  {
   "cell_type": "code",
   "execution_count": null,
   "id": "49ea1795",
   "metadata": {},
   "outputs": [],
   "source": [
    "# Cross Validation is performed"
   ]
  }
 ],
 "metadata": {
  "kernelspec": {
   "display_name": "Python 3 (ipykernel)",
   "language": "python",
   "name": "python3"
  },
  "language_info": {
   "codemirror_mode": {
    "name": "ipython",
    "version": 3
   },
   "file_extension": ".py",
   "mimetype": "text/x-python",
   "name": "python",
   "nbconvert_exporter": "python",
   "pygments_lexer": "ipython3",
   "version": "3.10.9"
  }
 },
 "nbformat": 4,
 "nbformat_minor": 5
}
